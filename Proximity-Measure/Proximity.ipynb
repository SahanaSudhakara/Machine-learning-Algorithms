{
  "nbformat": 4,
  "nbformat_minor": 0,
  "metadata": {
    "colab": {
      "provenance": []
    },
    "kernelspec": {
      "name": "python3",
      "display_name": "Python 3"
    },
    "language_info": {
      "name": "python"
    }
  },
  "cells": [
    {
      "cell_type": "code",
      "source": [
        "# prompt: connect google drive\n",
        "\n",
        "from google.colab import drive\n",
        "drive.mount('/content/drive')\n"
      ],
      "metadata": {
        "colab": {
          "base_uri": "https://localhost:8080/"
        },
        "id": "Qe4kLi_1SGNn",
        "outputId": "30417032-a6eb-493c-efdc-dbccc4ef9581"
      },
      "execution_count": null,
      "outputs": [
        {
          "output_type": "stream",
          "name": "stdout",
          "text": [
            "Mounted at /content/drive\n"
          ]
        }
      ]
    },
    {
      "cell_type": "code",
      "execution_count": null,
      "metadata": {
        "colab": {
          "base_uri": "https://localhost:8080/"
        },
        "id": "gIO0PVEvRyAu",
        "outputId": "6e9c039c-fb53-46d7-fc8d-b5f1aa9e3453"
      },
      "outputs": [
        {
          "output_type": "stream",
          "name": "stdout",
          "text": [
            "Mean Vector for Iris-setosa: [5.006, 3.418, 1.464, 0.244]\n",
            "Mean Vector for Iris-versicolor: [5.936, 2.7700000000000005, 4.26, 1.3259999999999998]\n",
            "Mean Vector for Iris-virginica: [6.587999999999998, 2.974, 5.5520000000000005, 2.0260000000000002]\n"
          ]
        }
      ],
      "source": [
        "import pandas as pd\n",
        "# Load the Iris dataset from the provided CSV file\n",
        "iris_data = pd.read_csv('/content/drive/MyDrive/iris.csv')\n",
        "# Get unique species labels from the 'label' column\n",
        "unique_species = iris_data['label'].unique()\n",
        "# Dictionary to store mean vectors for each species\n",
        "mean_vectors = {}\n",
        "# Calculate mean vectors for each unique species\n",
        "for species in unique_species:\n",
        "    # Filter the dataset for the current species\n",
        "    filtered_data = iris_data[iris_data['label'] == species]\n",
        "    # Calculate mean values for Sepal length, Sepal width, Petal length, and Petal width\n",
        "    mean_sepal_length = filtered_data['Sepal length'].mean()\n",
        "    mean_sepal_width = filtered_data['Sepal width'].mean()\n",
        "    mean_petal_length = filtered_data['Petal length'].mean()\n",
        "    mean_petal_width = filtered_data['Petal width'].mean()\n",
        "    # Create the mean vector\n",
        "    mean_vector = [mean_sepal_length, mean_sepal_width, mean_petal_length, mean_petal_width]\n",
        "    # Store the mean vector in the dictionary with species as the key\n",
        "    mean_vectors[species] = mean_vector\n",
        "# Print the mean vectors for all unique species\n",
        "for species, mean_vector in mean_vectors.items():\n",
        "    print(f\"Mean Vector for {species}: {mean_vector}\")"
      ]
    },
    {
      "cell_type": "code",
      "source": [
        "iris_data"
      ],
      "metadata": {
        "colab": {
          "base_uri": "https://localhost:8080/",
          "height": 424
        },
        "id": "-fy5WqJh3i_i",
        "outputId": "a557b81f-0fe8-403f-ddb1-eeaabff298cc"
      },
      "execution_count": null,
      "outputs": [
        {
          "output_type": "execute_result",
          "data": {
            "text/plain": [
              "     Sepal length  Sepal width  Petal length  Petal width      id  \\\n",
              "0             5.1          3.5           1.4          0.2    id_1   \n",
              "1             4.9          3.0           1.4          0.2    id_2   \n",
              "2             4.7          3.2           1.3          0.2    id_3   \n",
              "3             4.6          3.1           1.5          0.2    id_4   \n",
              "4             5.0          3.6           1.4          0.2    id_5   \n",
              "..            ...          ...           ...          ...     ...   \n",
              "145           6.7          3.0           5.2          2.3  id_146   \n",
              "146           6.3          2.5           5.0          1.9  id_147   \n",
              "147           6.5          3.0           5.2          2.0  id_148   \n",
              "148           6.2          3.4           5.4          2.3  id_149   \n",
              "149           5.9          3.0           5.1          1.8  id_150   \n",
              "\n",
              "              label  \n",
              "0       Iris-setosa  \n",
              "1       Iris-setosa  \n",
              "2       Iris-setosa  \n",
              "3       Iris-setosa  \n",
              "4       Iris-setosa  \n",
              "..              ...  \n",
              "145  Iris-virginica  \n",
              "146  Iris-virginica  \n",
              "147  Iris-virginica  \n",
              "148  Iris-virginica  \n",
              "149  Iris-virginica  \n",
              "\n",
              "[150 rows x 6 columns]"
            ],
            "text/html": [
              "\n",
              "  <div id=\"df-aa1a67bc-ed74-4af1-b50e-b40d61efeb1c\" class=\"colab-df-container\">\n",
              "    <div>\n",
              "<style scoped>\n",
              "    .dataframe tbody tr th:only-of-type {\n",
              "        vertical-align: middle;\n",
              "    }\n",
              "\n",
              "    .dataframe tbody tr th {\n",
              "        vertical-align: top;\n",
              "    }\n",
              "\n",
              "    .dataframe thead th {\n",
              "        text-align: right;\n",
              "    }\n",
              "</style>\n",
              "<table border=\"1\" class=\"dataframe\">\n",
              "  <thead>\n",
              "    <tr style=\"text-align: right;\">\n",
              "      <th></th>\n",
              "      <th>Sepal length</th>\n",
              "      <th>Sepal width</th>\n",
              "      <th>Petal length</th>\n",
              "      <th>Petal width</th>\n",
              "      <th>id</th>\n",
              "      <th>label</th>\n",
              "    </tr>\n",
              "  </thead>\n",
              "  <tbody>\n",
              "    <tr>\n",
              "      <th>0</th>\n",
              "      <td>5.1</td>\n",
              "      <td>3.5</td>\n",
              "      <td>1.4</td>\n",
              "      <td>0.2</td>\n",
              "      <td>id_1</td>\n",
              "      <td>Iris-setosa</td>\n",
              "    </tr>\n",
              "    <tr>\n",
              "      <th>1</th>\n",
              "      <td>4.9</td>\n",
              "      <td>3.0</td>\n",
              "      <td>1.4</td>\n",
              "      <td>0.2</td>\n",
              "      <td>id_2</td>\n",
              "      <td>Iris-setosa</td>\n",
              "    </tr>\n",
              "    <tr>\n",
              "      <th>2</th>\n",
              "      <td>4.7</td>\n",
              "      <td>3.2</td>\n",
              "      <td>1.3</td>\n",
              "      <td>0.2</td>\n",
              "      <td>id_3</td>\n",
              "      <td>Iris-setosa</td>\n",
              "    </tr>\n",
              "    <tr>\n",
              "      <th>3</th>\n",
              "      <td>4.6</td>\n",
              "      <td>3.1</td>\n",
              "      <td>1.5</td>\n",
              "      <td>0.2</td>\n",
              "      <td>id_4</td>\n",
              "      <td>Iris-setosa</td>\n",
              "    </tr>\n",
              "    <tr>\n",
              "      <th>4</th>\n",
              "      <td>5.0</td>\n",
              "      <td>3.6</td>\n",
              "      <td>1.4</td>\n",
              "      <td>0.2</td>\n",
              "      <td>id_5</td>\n",
              "      <td>Iris-setosa</td>\n",
              "    </tr>\n",
              "    <tr>\n",
              "      <th>...</th>\n",
              "      <td>...</td>\n",
              "      <td>...</td>\n",
              "      <td>...</td>\n",
              "      <td>...</td>\n",
              "      <td>...</td>\n",
              "      <td>...</td>\n",
              "    </tr>\n",
              "    <tr>\n",
              "      <th>145</th>\n",
              "      <td>6.7</td>\n",
              "      <td>3.0</td>\n",
              "      <td>5.2</td>\n",
              "      <td>2.3</td>\n",
              "      <td>id_146</td>\n",
              "      <td>Iris-virginica</td>\n",
              "    </tr>\n",
              "    <tr>\n",
              "      <th>146</th>\n",
              "      <td>6.3</td>\n",
              "      <td>2.5</td>\n",
              "      <td>5.0</td>\n",
              "      <td>1.9</td>\n",
              "      <td>id_147</td>\n",
              "      <td>Iris-virginica</td>\n",
              "    </tr>\n",
              "    <tr>\n",
              "      <th>147</th>\n",
              "      <td>6.5</td>\n",
              "      <td>3.0</td>\n",
              "      <td>5.2</td>\n",
              "      <td>2.0</td>\n",
              "      <td>id_148</td>\n",
              "      <td>Iris-virginica</td>\n",
              "    </tr>\n",
              "    <tr>\n",
              "      <th>148</th>\n",
              "      <td>6.2</td>\n",
              "      <td>3.4</td>\n",
              "      <td>5.4</td>\n",
              "      <td>2.3</td>\n",
              "      <td>id_149</td>\n",
              "      <td>Iris-virginica</td>\n",
              "    </tr>\n",
              "    <tr>\n",
              "      <th>149</th>\n",
              "      <td>5.9</td>\n",
              "      <td>3.0</td>\n",
              "      <td>5.1</td>\n",
              "      <td>1.8</td>\n",
              "      <td>id_150</td>\n",
              "      <td>Iris-virginica</td>\n",
              "    </tr>\n",
              "  </tbody>\n",
              "</table>\n",
              "<p>150 rows × 6 columns</p>\n",
              "</div>\n",
              "    <div class=\"colab-df-buttons\">\n",
              "\n",
              "  <div class=\"colab-df-container\">\n",
              "    <button class=\"colab-df-convert\" onclick=\"convertToInteractive('df-aa1a67bc-ed74-4af1-b50e-b40d61efeb1c')\"\n",
              "            title=\"Convert this dataframe to an interactive table.\"\n",
              "            style=\"display:none;\">\n",
              "\n",
              "  <svg xmlns=\"http://www.w3.org/2000/svg\" height=\"24px\" viewBox=\"0 -960 960 960\">\n",
              "    <path d=\"M120-120v-720h720v720H120Zm60-500h600v-160H180v160Zm220 220h160v-160H400v160Zm0 220h160v-160H400v160ZM180-400h160v-160H180v160Zm440 0h160v-160H620v160ZM180-180h160v-160H180v160Zm440 0h160v-160H620v160Z\"/>\n",
              "  </svg>\n",
              "    </button>\n",
              "\n",
              "  <style>\n",
              "    .colab-df-container {\n",
              "      display:flex;\n",
              "      gap: 12px;\n",
              "    }\n",
              "\n",
              "    .colab-df-convert {\n",
              "      background-color: #E8F0FE;\n",
              "      border: none;\n",
              "      border-radius: 50%;\n",
              "      cursor: pointer;\n",
              "      display: none;\n",
              "      fill: #1967D2;\n",
              "      height: 32px;\n",
              "      padding: 0 0 0 0;\n",
              "      width: 32px;\n",
              "    }\n",
              "\n",
              "    .colab-df-convert:hover {\n",
              "      background-color: #E2EBFA;\n",
              "      box-shadow: 0px 1px 2px rgba(60, 64, 67, 0.3), 0px 1px 3px 1px rgba(60, 64, 67, 0.15);\n",
              "      fill: #174EA6;\n",
              "    }\n",
              "\n",
              "    .colab-df-buttons div {\n",
              "      margin-bottom: 4px;\n",
              "    }\n",
              "\n",
              "    [theme=dark] .colab-df-convert {\n",
              "      background-color: #3B4455;\n",
              "      fill: #D2E3FC;\n",
              "    }\n",
              "\n",
              "    [theme=dark] .colab-df-convert:hover {\n",
              "      background-color: #434B5C;\n",
              "      box-shadow: 0px 1px 3px 1px rgba(0, 0, 0, 0.15);\n",
              "      filter: drop-shadow(0px 1px 2px rgba(0, 0, 0, 0.3));\n",
              "      fill: #FFFFFF;\n",
              "    }\n",
              "  </style>\n",
              "\n",
              "    <script>\n",
              "      const buttonEl =\n",
              "        document.querySelector('#df-aa1a67bc-ed74-4af1-b50e-b40d61efeb1c button.colab-df-convert');\n",
              "      buttonEl.style.display =\n",
              "        google.colab.kernel.accessAllowed ? 'block' : 'none';\n",
              "\n",
              "      async function convertToInteractive(key) {\n",
              "        const element = document.querySelector('#df-aa1a67bc-ed74-4af1-b50e-b40d61efeb1c');\n",
              "        const dataTable =\n",
              "          await google.colab.kernel.invokeFunction('convertToInteractive',\n",
              "                                                    [key], {});\n",
              "        if (!dataTable) return;\n",
              "\n",
              "        const docLinkHtml = 'Like what you see? Visit the ' +\n",
              "          '<a target=\"_blank\" href=https://colab.research.google.com/notebooks/data_table.ipynb>data table notebook</a>'\n",
              "          + ' to learn more about interactive tables.';\n",
              "        element.innerHTML = '';\n",
              "        dataTable['output_type'] = 'display_data';\n",
              "        await google.colab.output.renderOutput(dataTable, element);\n",
              "        const docLink = document.createElement('div');\n",
              "        docLink.innerHTML = docLinkHtml;\n",
              "        element.appendChild(docLink);\n",
              "      }\n",
              "    </script>\n",
              "  </div>\n",
              "\n",
              "\n",
              "<div id=\"df-408259d9-050e-46d2-9d52-fdf817d7594f\">\n",
              "  <button class=\"colab-df-quickchart\" onclick=\"quickchart('df-408259d9-050e-46d2-9d52-fdf817d7594f')\"\n",
              "            title=\"Suggest charts\"\n",
              "            style=\"display:none;\">\n",
              "\n",
              "<svg xmlns=\"http://www.w3.org/2000/svg\" height=\"24px\"viewBox=\"0 0 24 24\"\n",
              "     width=\"24px\">\n",
              "    <g>\n",
              "        <path d=\"M19 3H5c-1.1 0-2 .9-2 2v14c0 1.1.9 2 2 2h14c1.1 0 2-.9 2-2V5c0-1.1-.9-2-2-2zM9 17H7v-7h2v7zm4 0h-2V7h2v10zm4 0h-2v-4h2v4z\"/>\n",
              "    </g>\n",
              "</svg>\n",
              "  </button>\n",
              "\n",
              "<style>\n",
              "  .colab-df-quickchart {\n",
              "      --bg-color: #E8F0FE;\n",
              "      --fill-color: #1967D2;\n",
              "      --hover-bg-color: #E2EBFA;\n",
              "      --hover-fill-color: #174EA6;\n",
              "      --disabled-fill-color: #AAA;\n",
              "      --disabled-bg-color: #DDD;\n",
              "  }\n",
              "\n",
              "  [theme=dark] .colab-df-quickchart {\n",
              "      --bg-color: #3B4455;\n",
              "      --fill-color: #D2E3FC;\n",
              "      --hover-bg-color: #434B5C;\n",
              "      --hover-fill-color: #FFFFFF;\n",
              "      --disabled-bg-color: #3B4455;\n",
              "      --disabled-fill-color: #666;\n",
              "  }\n",
              "\n",
              "  .colab-df-quickchart {\n",
              "    background-color: var(--bg-color);\n",
              "    border: none;\n",
              "    border-radius: 50%;\n",
              "    cursor: pointer;\n",
              "    display: none;\n",
              "    fill: var(--fill-color);\n",
              "    height: 32px;\n",
              "    padding: 0;\n",
              "    width: 32px;\n",
              "  }\n",
              "\n",
              "  .colab-df-quickchart:hover {\n",
              "    background-color: var(--hover-bg-color);\n",
              "    box-shadow: 0 1px 2px rgba(60, 64, 67, 0.3), 0 1px 3px 1px rgba(60, 64, 67, 0.15);\n",
              "    fill: var(--button-hover-fill-color);\n",
              "  }\n",
              "\n",
              "  .colab-df-quickchart-complete:disabled,\n",
              "  .colab-df-quickchart-complete:disabled:hover {\n",
              "    background-color: var(--disabled-bg-color);\n",
              "    fill: var(--disabled-fill-color);\n",
              "    box-shadow: none;\n",
              "  }\n",
              "\n",
              "  .colab-df-spinner {\n",
              "    border: 2px solid var(--fill-color);\n",
              "    border-color: transparent;\n",
              "    border-bottom-color: var(--fill-color);\n",
              "    animation:\n",
              "      spin 1s steps(1) infinite;\n",
              "  }\n",
              "\n",
              "  @keyframes spin {\n",
              "    0% {\n",
              "      border-color: transparent;\n",
              "      border-bottom-color: var(--fill-color);\n",
              "      border-left-color: var(--fill-color);\n",
              "    }\n",
              "    20% {\n",
              "      border-color: transparent;\n",
              "      border-left-color: var(--fill-color);\n",
              "      border-top-color: var(--fill-color);\n",
              "    }\n",
              "    30% {\n",
              "      border-color: transparent;\n",
              "      border-left-color: var(--fill-color);\n",
              "      border-top-color: var(--fill-color);\n",
              "      border-right-color: var(--fill-color);\n",
              "    }\n",
              "    40% {\n",
              "      border-color: transparent;\n",
              "      border-right-color: var(--fill-color);\n",
              "      border-top-color: var(--fill-color);\n",
              "    }\n",
              "    60% {\n",
              "      border-color: transparent;\n",
              "      border-right-color: var(--fill-color);\n",
              "    }\n",
              "    80% {\n",
              "      border-color: transparent;\n",
              "      border-right-color: var(--fill-color);\n",
              "      border-bottom-color: var(--fill-color);\n",
              "    }\n",
              "    90% {\n",
              "      border-color: transparent;\n",
              "      border-bottom-color: var(--fill-color);\n",
              "    }\n",
              "  }\n",
              "</style>\n",
              "\n",
              "  <script>\n",
              "    async function quickchart(key) {\n",
              "      const quickchartButtonEl =\n",
              "        document.querySelector('#' + key + ' button');\n",
              "      quickchartButtonEl.disabled = true;  // To prevent multiple clicks.\n",
              "      quickchartButtonEl.classList.add('colab-df-spinner');\n",
              "      try {\n",
              "        const charts = await google.colab.kernel.invokeFunction(\n",
              "            'suggestCharts', [key], {});\n",
              "      } catch (error) {\n",
              "        console.error('Error during call to suggestCharts:', error);\n",
              "      }\n",
              "      quickchartButtonEl.classList.remove('colab-df-spinner');\n",
              "      quickchartButtonEl.classList.add('colab-df-quickchart-complete');\n",
              "    }\n",
              "    (() => {\n",
              "      let quickchartButtonEl =\n",
              "        document.querySelector('#df-408259d9-050e-46d2-9d52-fdf817d7594f button');\n",
              "      quickchartButtonEl.style.display =\n",
              "        google.colab.kernel.accessAllowed ? 'block' : 'none';\n",
              "    })();\n",
              "  </script>\n",
              "</div>\n",
              "\n",
              "  <div id=\"id_8db44412-bfdc-48eb-a347-c8bdf1b62709\">\n",
              "    <style>\n",
              "      .colab-df-generate {\n",
              "        background-color: #E8F0FE;\n",
              "        border: none;\n",
              "        border-radius: 50%;\n",
              "        cursor: pointer;\n",
              "        display: none;\n",
              "        fill: #1967D2;\n",
              "        height: 32px;\n",
              "        padding: 0 0 0 0;\n",
              "        width: 32px;\n",
              "      }\n",
              "\n",
              "      .colab-df-generate:hover {\n",
              "        background-color: #E2EBFA;\n",
              "        box-shadow: 0px 1px 2px rgba(60, 64, 67, 0.3), 0px 1px 3px 1px rgba(60, 64, 67, 0.15);\n",
              "        fill: #174EA6;\n",
              "      }\n",
              "\n",
              "      [theme=dark] .colab-df-generate {\n",
              "        background-color: #3B4455;\n",
              "        fill: #D2E3FC;\n",
              "      }\n",
              "\n",
              "      [theme=dark] .colab-df-generate:hover {\n",
              "        background-color: #434B5C;\n",
              "        box-shadow: 0px 1px 3px 1px rgba(0, 0, 0, 0.15);\n",
              "        filter: drop-shadow(0px 1px 2px rgba(0, 0, 0, 0.3));\n",
              "        fill: #FFFFFF;\n",
              "      }\n",
              "    </style>\n",
              "    <button class=\"colab-df-generate\" onclick=\"generateWithVariable('iris_data')\"\n",
              "            title=\"Generate code using this dataframe.\"\n",
              "            style=\"display:none;\">\n",
              "\n",
              "  <svg xmlns=\"http://www.w3.org/2000/svg\" height=\"24px\"viewBox=\"0 0 24 24\"\n",
              "       width=\"24px\">\n",
              "    <path d=\"M7,19H8.4L18.45,9,17,7.55,7,17.6ZM5,21V16.75L18.45,3.32a2,2,0,0,1,2.83,0l1.4,1.43a1.91,1.91,0,0,1,.58,1.4,1.91,1.91,0,0,1-.58,1.4L9.25,21ZM18.45,9,17,7.55Zm-12,3A5.31,5.31,0,0,0,4.9,8.1,5.31,5.31,0,0,0,1,6.5,5.31,5.31,0,0,0,4.9,4.9,5.31,5.31,0,0,0,6.5,1,5.31,5.31,0,0,0,8.1,4.9,5.31,5.31,0,0,0,12,6.5,5.46,5.46,0,0,0,6.5,12Z\"/>\n",
              "  </svg>\n",
              "    </button>\n",
              "    <script>\n",
              "      (() => {\n",
              "      const buttonEl =\n",
              "        document.querySelector('#id_8db44412-bfdc-48eb-a347-c8bdf1b62709 button.colab-df-generate');\n",
              "      buttonEl.style.display =\n",
              "        google.colab.kernel.accessAllowed ? 'block' : 'none';\n",
              "\n",
              "      buttonEl.onclick = () => {\n",
              "        google.colab.notebook.generateWithVariable('iris_data');\n",
              "      }\n",
              "      })();\n",
              "    </script>\n",
              "  </div>\n",
              "\n",
              "    </div>\n",
              "  </div>\n"
            ],
            "application/vnd.google.colaboratory.intrinsic+json": {
              "type": "dataframe",
              "variable_name": "iris_data",
              "summary": "{\n  \"name\": \"iris_data\",\n  \"rows\": 150,\n  \"fields\": [\n    {\n      \"column\": \"Sepal length\",\n      \"properties\": {\n        \"dtype\": \"number\",\n        \"std\": 0.828066127977863,\n        \"min\": 4.3,\n        \"max\": 7.9,\n        \"num_unique_values\": 35,\n        \"samples\": [\n          6.2,\n          4.5,\n          5.6\n        ],\n        \"semantic_type\": \"\",\n        \"description\": \"\"\n      }\n    },\n    {\n      \"column\": \"Sepal width\",\n      \"properties\": {\n        \"dtype\": \"number\",\n        \"std\": 0.4335943113621737,\n        \"min\": 2.0,\n        \"max\": 4.4,\n        \"num_unique_values\": 23,\n        \"samples\": [\n          2.3,\n          4.0,\n          3.5\n        ],\n        \"semantic_type\": \"\",\n        \"description\": \"\"\n      }\n    },\n    {\n      \"column\": \"Petal length\",\n      \"properties\": {\n        \"dtype\": \"number\",\n        \"std\": 1.7644204199522626,\n        \"min\": 1.0,\n        \"max\": 6.9,\n        \"num_unique_values\": 43,\n        \"samples\": [\n          6.7,\n          3.8,\n          3.7\n        ],\n        \"semantic_type\": \"\",\n        \"description\": \"\"\n      }\n    },\n    {\n      \"column\": \"Petal width\",\n      \"properties\": {\n        \"dtype\": \"number\",\n        \"std\": 0.7631607417008411,\n        \"min\": 0.1,\n        \"max\": 2.5,\n        \"num_unique_values\": 22,\n        \"samples\": [\n          0.2,\n          1.2,\n          1.3\n        ],\n        \"semantic_type\": \"\",\n        \"description\": \"\"\n      }\n    },\n    {\n      \"column\": \"id\",\n      \"properties\": {\n        \"dtype\": \"string\",\n        \"num_unique_values\": 150,\n        \"samples\": [\n          \"id_74\",\n          \"id_19\",\n          \"id_119\"\n        ],\n        \"semantic_type\": \"\",\n        \"description\": \"\"\n      }\n    },\n    {\n      \"column\": \"label\",\n      \"properties\": {\n        \"dtype\": \"category\",\n        \"num_unique_values\": 3,\n        \"samples\": [\n          \"Iris-setosa\",\n          \"Iris-versicolor\",\n          \"Iris-virginica\"\n        ],\n        \"semantic_type\": \"\",\n        \"description\": \"\"\n      }\n    }\n  ]\n}"
            }
          },
          "metadata": {},
          "execution_count": 3
        }
      ]
    },
    {
      "cell_type": "markdown",
      "source": [
        "**1. Eucledian Distance**"
      ],
      "metadata": {
        "id": "EAnsVG8xTgIY"
      }
    },
    {
      "cell_type": "markdown",
      "source": [
        "This code calculates the Euclidean distances between mean vectors of different species in a dataset. It utilizes scipy.spatial.distance to compute distances and itertools.combinations to generate pairs of species. The results are stored in a table and printed for easy comparison."
      ],
      "metadata": {
        "id": "gU0Pat9qBY88"
      }
    },
    {
      "cell_type": "code",
      "source": [
        "\n",
        "from scipy.spatial.distance import euclidean\n",
        "from itertools import combinations\n",
        "# Compute Euclidean distances between all pairs of species mean vectors\n",
        "distance_table = pd.DataFrame(index=unique_species, columns=unique_species)\n",
        "for species1, species2 in combinations(unique_species, 2):\n",
        "    distance = euclidean(mean_vectors[species1], mean_vectors[species2])\n",
        "    distance_table.at[species1, species2] = distance\n",
        "    distance_table.at[species2, species1] = distance\n",
        "# Print the table of Euclidean distances between species mean vectors\n",
        "print(\"\\nTable of Euclidean Distances:\")\n",
        "print(distance_table)"
      ],
      "metadata": {
        "colab": {
          "base_uri": "https://localhost:8080/"
        },
        "id": "3ARMun4nSAK5",
        "outputId": "2f8d1e54-d424-444f-ecd4-1905cb2c9921"
      },
      "execution_count": null,
      "outputs": [
        {
          "output_type": "stream",
          "name": "stdout",
          "text": [
            "\n",
            "Table of Euclidean Distances:\n",
            "                Iris-setosa Iris-versicolor Iris-virginica\n",
            "Iris-setosa             NaN        3.205175       4.752592\n",
            "Iris-versicolor    3.205175             NaN       1.620489\n",
            "Iris-virginica     4.752592        1.620489            NaN\n"
          ]
        }
      ]
    },
    {
      "cell_type": "markdown",
      "source": [
        "**2. Z-Score**"
      ],
      "metadata": {
        "id": "JtcsL2Gd8tm_"
      }
    },
    {
      "cell_type": "markdown",
      "source": [
        " This code processes the iris dataset by first standardizing the features using z-score standardization. Then, it computes the mean vectors for each species and calculates the Euclidean distance between all pairs of mean vectors. The distances are presented in a table for easy comparison, facilitating analysis of the dissimilarities between species based on their feature means."
      ],
      "metadata": {
        "id": "NAahww2RBkgp"
      }
    },
    {
      "cell_type": "code",
      "source": [
        "import pandas as pd\n",
        "from scipy.spatial.distance import pdist, squareform\n",
        "from sklearn.preprocessing import StandardScaler\n",
        "\n",
        "# Step 1: Read the data and filter out unnecessary columns\n",
        "\n",
        "file_path = \"/content/drive/MyDrive/DataSets/iris.csv\"\n",
        "\n",
        "# Read the CSV file\n",
        "ds = pd.read_csv(file_path)\n",
        "ds = ds.drop(columns=[\"id\"])  # Drop the 'id' column\n",
        "\n",
        "# Standardize the data using z-score standardization\n",
        "scaler = StandardScaler()\n",
        "ds_std = pd.DataFrame(scaler.fit_transform(ds.iloc[:, :-1]), columns=ds.columns[:-1])\n",
        "ds_std['label'] = ds['label']\n",
        "\n",
        "# Compute the mean vector for each species\n",
        "mean_vectors = ds_std.groupby('label').mean()\n",
        "\n",
        "# Compute the Euclidean distance between each pair of mean vectors\n",
        "distances = pdist(mean_vectors, metric='euclidean')\n",
        "\n",
        "# Report the distances in a table\n",
        "distance_ds = pd.DataFrame(squareform(distances), columns=mean_vectors.index, index=mean_vectors.index)\n",
        "print(\"Euclidean distance between species mean vectors (after z-score standardization):\")\n",
        "print(distance_ds)"
      ],
      "metadata": {
        "colab": {
          "base_uri": "https://localhost:8080/",
          "height": 365
        },
        "id": "SlTUye2q8JBl",
        "outputId": "2df6a917-6d1f-4a2a-96c9-106b4b417309"
      },
      "execution_count": null,
      "outputs": [
        {
          "output_type": "error",
          "ename": "FileNotFoundError",
          "evalue": "[Errno 2] No such file or directory: '/content/drive/MyDrive/DataSets/iris.csv'",
          "traceback": [
            "\u001b[0;31m---------------------------------------------------------------------------\u001b[0m",
            "\u001b[0;31mFileNotFoundError\u001b[0m                         Traceback (most recent call last)",
            "\u001b[0;32m<ipython-input-5-b93d1697043c>\u001b[0m in \u001b[0;36m<cell line: 10>\u001b[0;34m()\u001b[0m\n\u001b[1;32m      8\u001b[0m \u001b[0;34m\u001b[0m\u001b[0m\n\u001b[1;32m      9\u001b[0m \u001b[0;31m# Read the CSV file\u001b[0m\u001b[0;34m\u001b[0m\u001b[0;34m\u001b[0m\u001b[0m\n\u001b[0;32m---> 10\u001b[0;31m \u001b[0mds\u001b[0m \u001b[0;34m=\u001b[0m \u001b[0mpd\u001b[0m\u001b[0;34m.\u001b[0m\u001b[0mread_csv\u001b[0m\u001b[0;34m(\u001b[0m\u001b[0mfile_path\u001b[0m\u001b[0;34m)\u001b[0m\u001b[0;34m\u001b[0m\u001b[0;34m\u001b[0m\u001b[0m\n\u001b[0m\u001b[1;32m     11\u001b[0m \u001b[0mds\u001b[0m \u001b[0;34m=\u001b[0m \u001b[0mds\u001b[0m\u001b[0;34m.\u001b[0m\u001b[0mdrop\u001b[0m\u001b[0;34m(\u001b[0m\u001b[0mcolumns\u001b[0m\u001b[0;34m=\u001b[0m\u001b[0;34m[\u001b[0m\u001b[0;34m\"id\"\u001b[0m\u001b[0;34m]\u001b[0m\u001b[0;34m)\u001b[0m  \u001b[0;31m# Drop the 'id' column\u001b[0m\u001b[0;34m\u001b[0m\u001b[0;34m\u001b[0m\u001b[0m\n\u001b[1;32m     12\u001b[0m \u001b[0;34m\u001b[0m\u001b[0m\n",
            "\u001b[0;32m/usr/local/lib/python3.10/dist-packages/pandas/io/parsers/readers.py\u001b[0m in \u001b[0;36mread_csv\u001b[0;34m(filepath_or_buffer, sep, delimiter, header, names, index_col, usecols, dtype, engine, converters, true_values, false_values, skipinitialspace, skiprows, skipfooter, nrows, na_values, keep_default_na, na_filter, verbose, skip_blank_lines, parse_dates, infer_datetime_format, keep_date_col, date_parser, date_format, dayfirst, cache_dates, iterator, chunksize, compression, thousands, decimal, lineterminator, quotechar, quoting, doublequote, escapechar, comment, encoding, encoding_errors, dialect, on_bad_lines, delim_whitespace, low_memory, memory_map, float_precision, storage_options, dtype_backend)\u001b[0m\n\u001b[1;32m    910\u001b[0m     \u001b[0mkwds\u001b[0m\u001b[0;34m.\u001b[0m\u001b[0mupdate\u001b[0m\u001b[0;34m(\u001b[0m\u001b[0mkwds_defaults\u001b[0m\u001b[0;34m)\u001b[0m\u001b[0;34m\u001b[0m\u001b[0;34m\u001b[0m\u001b[0m\n\u001b[1;32m    911\u001b[0m \u001b[0;34m\u001b[0m\u001b[0m\n\u001b[0;32m--> 912\u001b[0;31m     \u001b[0;32mreturn\u001b[0m \u001b[0m_read\u001b[0m\u001b[0;34m(\u001b[0m\u001b[0mfilepath_or_buffer\u001b[0m\u001b[0;34m,\u001b[0m \u001b[0mkwds\u001b[0m\u001b[0;34m)\u001b[0m\u001b[0;34m\u001b[0m\u001b[0;34m\u001b[0m\u001b[0m\n\u001b[0m\u001b[1;32m    913\u001b[0m \u001b[0;34m\u001b[0m\u001b[0m\n\u001b[1;32m    914\u001b[0m \u001b[0;34m\u001b[0m\u001b[0m\n",
            "\u001b[0;32m/usr/local/lib/python3.10/dist-packages/pandas/io/parsers/readers.py\u001b[0m in \u001b[0;36m_read\u001b[0;34m(filepath_or_buffer, kwds)\u001b[0m\n\u001b[1;32m    575\u001b[0m \u001b[0;34m\u001b[0m\u001b[0m\n\u001b[1;32m    576\u001b[0m     \u001b[0;31m# Create the parser.\u001b[0m\u001b[0;34m\u001b[0m\u001b[0;34m\u001b[0m\u001b[0m\n\u001b[0;32m--> 577\u001b[0;31m     \u001b[0mparser\u001b[0m \u001b[0;34m=\u001b[0m \u001b[0mTextFileReader\u001b[0m\u001b[0;34m(\u001b[0m\u001b[0mfilepath_or_buffer\u001b[0m\u001b[0;34m,\u001b[0m \u001b[0;34m**\u001b[0m\u001b[0mkwds\u001b[0m\u001b[0;34m)\u001b[0m\u001b[0;34m\u001b[0m\u001b[0;34m\u001b[0m\u001b[0m\n\u001b[0m\u001b[1;32m    578\u001b[0m \u001b[0;34m\u001b[0m\u001b[0m\n\u001b[1;32m    579\u001b[0m     \u001b[0;32mif\u001b[0m \u001b[0mchunksize\u001b[0m \u001b[0;32mor\u001b[0m \u001b[0miterator\u001b[0m\u001b[0;34m:\u001b[0m\u001b[0;34m\u001b[0m\u001b[0;34m\u001b[0m\u001b[0m\n",
            "\u001b[0;32m/usr/local/lib/python3.10/dist-packages/pandas/io/parsers/readers.py\u001b[0m in \u001b[0;36m__init__\u001b[0;34m(self, f, engine, **kwds)\u001b[0m\n\u001b[1;32m   1405\u001b[0m \u001b[0;34m\u001b[0m\u001b[0m\n\u001b[1;32m   1406\u001b[0m         \u001b[0mself\u001b[0m\u001b[0;34m.\u001b[0m\u001b[0mhandles\u001b[0m\u001b[0;34m:\u001b[0m \u001b[0mIOHandles\u001b[0m \u001b[0;34m|\u001b[0m \u001b[0;32mNone\u001b[0m \u001b[0;34m=\u001b[0m \u001b[0;32mNone\u001b[0m\u001b[0;34m\u001b[0m\u001b[0;34m\u001b[0m\u001b[0m\n\u001b[0;32m-> 1407\u001b[0;31m         \u001b[0mself\u001b[0m\u001b[0;34m.\u001b[0m\u001b[0m_engine\u001b[0m \u001b[0;34m=\u001b[0m \u001b[0mself\u001b[0m\u001b[0;34m.\u001b[0m\u001b[0m_make_engine\u001b[0m\u001b[0;34m(\u001b[0m\u001b[0mf\u001b[0m\u001b[0;34m,\u001b[0m \u001b[0mself\u001b[0m\u001b[0;34m.\u001b[0m\u001b[0mengine\u001b[0m\u001b[0;34m)\u001b[0m\u001b[0;34m\u001b[0m\u001b[0;34m\u001b[0m\u001b[0m\n\u001b[0m\u001b[1;32m   1408\u001b[0m \u001b[0;34m\u001b[0m\u001b[0m\n\u001b[1;32m   1409\u001b[0m     \u001b[0;32mdef\u001b[0m \u001b[0mclose\u001b[0m\u001b[0;34m(\u001b[0m\u001b[0mself\u001b[0m\u001b[0;34m)\u001b[0m \u001b[0;34m->\u001b[0m \u001b[0;32mNone\u001b[0m\u001b[0;34m:\u001b[0m\u001b[0;34m\u001b[0m\u001b[0;34m\u001b[0m\u001b[0m\n",
            "\u001b[0;32m/usr/local/lib/python3.10/dist-packages/pandas/io/parsers/readers.py\u001b[0m in \u001b[0;36m_make_engine\u001b[0;34m(self, f, engine)\u001b[0m\n\u001b[1;32m   1659\u001b[0m                 \u001b[0;32mif\u001b[0m \u001b[0;34m\"b\"\u001b[0m \u001b[0;32mnot\u001b[0m \u001b[0;32min\u001b[0m \u001b[0mmode\u001b[0m\u001b[0;34m:\u001b[0m\u001b[0;34m\u001b[0m\u001b[0;34m\u001b[0m\u001b[0m\n\u001b[1;32m   1660\u001b[0m                     \u001b[0mmode\u001b[0m \u001b[0;34m+=\u001b[0m \u001b[0;34m\"b\"\u001b[0m\u001b[0;34m\u001b[0m\u001b[0;34m\u001b[0m\u001b[0m\n\u001b[0;32m-> 1661\u001b[0;31m             self.handles = get_handle(\n\u001b[0m\u001b[1;32m   1662\u001b[0m                 \u001b[0mf\u001b[0m\u001b[0;34m,\u001b[0m\u001b[0;34m\u001b[0m\u001b[0;34m\u001b[0m\u001b[0m\n\u001b[1;32m   1663\u001b[0m                 \u001b[0mmode\u001b[0m\u001b[0;34m,\u001b[0m\u001b[0;34m\u001b[0m\u001b[0;34m\u001b[0m\u001b[0m\n",
            "\u001b[0;32m/usr/local/lib/python3.10/dist-packages/pandas/io/common.py\u001b[0m in \u001b[0;36mget_handle\u001b[0;34m(path_or_buf, mode, encoding, compression, memory_map, is_text, errors, storage_options)\u001b[0m\n\u001b[1;32m    857\u001b[0m         \u001b[0;32mif\u001b[0m \u001b[0mioargs\u001b[0m\u001b[0;34m.\u001b[0m\u001b[0mencoding\u001b[0m \u001b[0;32mand\u001b[0m \u001b[0;34m\"b\"\u001b[0m \u001b[0;32mnot\u001b[0m \u001b[0;32min\u001b[0m \u001b[0mioargs\u001b[0m\u001b[0;34m.\u001b[0m\u001b[0mmode\u001b[0m\u001b[0;34m:\u001b[0m\u001b[0;34m\u001b[0m\u001b[0;34m\u001b[0m\u001b[0m\n\u001b[1;32m    858\u001b[0m             \u001b[0;31m# Encoding\u001b[0m\u001b[0;34m\u001b[0m\u001b[0;34m\u001b[0m\u001b[0m\n\u001b[0;32m--> 859\u001b[0;31m             handle = open(\n\u001b[0m\u001b[1;32m    860\u001b[0m                 \u001b[0mhandle\u001b[0m\u001b[0;34m,\u001b[0m\u001b[0;34m\u001b[0m\u001b[0;34m\u001b[0m\u001b[0m\n\u001b[1;32m    861\u001b[0m                 \u001b[0mioargs\u001b[0m\u001b[0;34m.\u001b[0m\u001b[0mmode\u001b[0m\u001b[0;34m,\u001b[0m\u001b[0;34m\u001b[0m\u001b[0;34m\u001b[0m\u001b[0m\n",
            "\u001b[0;31mFileNotFoundError\u001b[0m: [Errno 2] No such file or directory: '/content/drive/MyDrive/DataSets/iris.csv'"
          ]
        }
      ]
    },
    {
      "cell_type": "markdown",
      "source": [
        "**3. Mahalobis Distance**"
      ],
      "metadata": {
        "id": "84ruJV8VT35i"
      }
    },
    {
      "cell_type": "markdown",
      "source": [
        "This code computes Mahalanobis distances between pairs of species mean vectors in the iris dataset. It first calculates the covariance matrix for the entire dataset and then computes the inverse of this matrix. Using these, it iterates through pairs of species, calculating Mahalanobis distances between their mean vectors and storing the results in a table for comparison."
      ],
      "metadata": {
        "id": "6fFUvaXXB4cr"
      }
    },
    {
      "cell_type": "code",
      "source": [
        "unique_labels = iris_data['label'].unique()\n",
        "print(unique_labels)\n"
      ],
      "metadata": {
        "id": "xDyEkZGiLnO6"
      },
      "execution_count": null,
      "outputs": []
    },
    {
      "cell_type": "code",
      "source": [
        "from scipy.spatial.distance import mahalanobis\n",
        "from scipy.linalg import inv\n",
        "# Calculate the covariance matrix for the entire dataset\n",
        "cov_matrix = iris_data[['Sepal length', 'Sepal width', 'Petal length', 'Petal width']].cov()\n",
        "# Compute the inverse of the covariance matrix\n",
        "inv_cov_matrix = inv(cov_matrix)\n",
        "# Compute Mahalanobis distances between all pairs of species mean vectors\n",
        "mahalanobis_distance_table = pd.DataFrame(index=unique_species, columns=unique_species)\n",
        "for species1, species2 in combinations(unique_species, 2):\n",
        "    # Calculate Mahalanobis distance between mean vectors of species1 and species2\n",
        "    mahalanobis_distance = mahalanobis(mean_vectors[species1], mean_vectors[species2], inv_cov_matrix)\n",
        "    # Store the Mahalanobis distance in the distance table for both species1 to species2 and species2 to species1\n",
        "    mahalanobis_distance_table.at[species1, species2] = mahalanobis_distance\n",
        "    mahalanobis_distance_table.at[species2, species1] = mahalanobis_distance\n",
        "# Print the table of Mahalanobis distances between species mean vectors\n",
        "print(\"\\nTable of Mahalanobis Distances:\")\n",
        "print(mahalanobis_distance_table)"
      ],
      "metadata": {
        "id": "7k6yRSKZTzeB"
      },
      "execution_count": null,
      "outputs": []
    },
    {
      "cell_type": "markdown",
      "source": [
        "**4. Cosine similarity**"
      ],
      "metadata": {
        "id": "Eu2w4LxDT8Mn"
      }
    },
    {
      "cell_type": "markdown",
      "source": [
        "This code calculates cosine similarities between pairs of species mean vectors in the iris dataset. It utilizes the cosine function from scipy.spatial.distance to compute similarities and stores the results in a table for comparison. This enables the analysis of the degree of similarity between species based on their feature means."
      ],
      "metadata": {
        "id": "ttq7L3iiB7Rl"
      }
    },
    {
      "cell_type": "code",
      "source": [
        "from scipy.spatial.distance import cosine\n",
        "# Compute cosine similarities between all pairs of species mean vectors\n",
        "similarity_table = pd.DataFrame(index=unique_species, columns=unique_species)\n",
        "for species1, species2 in combinations(unique_species, 2):\n",
        "    # Calculate cosine similarity between mean vectors of species1 and species2\n",
        "    similarity = 1 - cosine(mean_vectors[species1], mean_vectors[species2])\n",
        "    # Store the similarity in the similarity table for both species1 to species2 and species2 to species1\n",
        "    similarity_table.at[species1, species2] = similarity\n",
        "    similarity_table.at[species2, species1] = similarity\n",
        "# Print the table of cosine similarities between species mean vectors\n",
        "print(\"\\nTable of Cosine Similarities:\")\n",
        "print(similarity_table)"
      ],
      "metadata": {
        "id": "RVXFR9VAT69L"
      },
      "execution_count": null,
      "outputs": []
    },
    {
      "cell_type": "markdown",
      "source": [
        "**5. Pearson Coreation**"
      ],
      "metadata": {
        "id": "7seDVPSdUBe7"
      }
    },
    {
      "cell_type": "markdown",
      "source": [
        "This code computes Pearson correlation coefficients between pairs of species mean vectors in the iris dataset. It utilizes the pearsonr function from scipy.stats to calculate correlations and then stores the coefficients in a table for comparison. This allows for the examination of linear relationships between species based on their feature means."
      ],
      "metadata": {
        "id": "rZfoq3JzCL25"
      }
    },
    {
      "cell_type": "code",
      "source": [
        "from scipy.stats import pearsonr\n",
        "# Compute Pearson correlation between all pairs of species mean vectors\n",
        "correlation_table = pd.DataFrame(index=unique_species, columns=unique_species)\n",
        "for species1, species2 in combinations(unique_species, 2):\n",
        "    # Calculate Pearson correlation between mean vectors of species1 and species2\n",
        "    correlation, _ = pearsonr(mean_vectors[species1], mean_vectors[species2])\n",
        "    # Store the correlation coefficient in the correlation table for both species1 to species2 and species2 to species1\n",
        "    correlation_table.at[species1, species2] = correlation\n",
        "    correlation_table.at[species2, species1] = correlation\n",
        "# Print the table of Pearson correlations between species mean vectors\n",
        "print(\"\\nTable of Pearson Correlations:\")\n",
        "print(correlation_table)"
      ],
      "metadata": {
        "id": "Vh6fB8egUAis"
      },
      "execution_count": null,
      "outputs": []
    },
    {
      "cell_type": "markdown",
      "source": [
        "**6. You now have five tables. Explain the pros and cons of each of the measures for the purpose of quantifying how similar pairs of species are.**"
      ],
      "metadata": {
        "id": "UNBFI8L05pi3"
      }
    },
    {
      "cell_type": "markdown",
      "source": [
        "# **Euclidean Distance:**\n",
        "**Advantages:**\n",
        "Euclidean distance is easy to learn and apply. It calculates a meaningful distance metric, with smaller values suggesting greater similarity.\n",
        "\n",
        "**Cons:**\n",
        "The Euclidean distance is sensitive to the scale of the variables, which can be problematic when the variables have different units or scales. It does not account for relationships between variables, which can be significant in multivariate data. In high-dimensional spaces, Euclidean distances become less useful.\n",
        "\n",
        "#**Z-Score**\n",
        "**Advantages:**\n",
        " Z-score standardization normalizes variables, making them comparable across different scales. This is especially handy when working with datasets including variables with different units or scales. Z-score standardization is less susceptible to outliers than other scaling approaches. Outliers can still influence the mean and standard deviation, but their impact is lessened.\n",
        "\n",
        " **Cons:**\n",
        " After Z-score standardization, variables are no longer in their original units. This may make it more difficult to grasp the changed numbers, particularly in circumstances when the original units have specific significance. Z-score standardization presupposes that the data is normally distributed. If the data is sufficiently non-normal, the transformation might not be appropriate.\n",
        "# **Mahalanobis distance**\n",
        " **Pros:**\n",
        " The Mahalanobis distance takes into account the covariance structure of the data, making it appropriate for datasets with correlated variables. It is less sensitive to variations in scale than Euclidean distance.\n",
        "\n",
        "**Cons:**\n",
        "Calculating Mahalanobis distance requires inverting the covariance matrix, which can be computationally expensive. It assumes that the data follows a multivariate normal distribution, which is not necessarily true.\n",
        "\n",
        "# **Cosine Similarity:**\n",
        "**Advantages:**\n",
        " Cosine similarity quantifies the angle between vectors, making it appropriate for high-dimensional areas where Euclidean distances may become meaningless. It is solely affected by the direction of vectors, not their magnitude. Cosine similarity is widely used in text mining and is ideal for high-dimensional data such as word embeddings.\n",
        "\n",
        " **Cons:**\n",
        " Cosine similarity does not apply when variables have negative values or when negative correlations are significant. It only takes into account the direction of vectors, hence it may not be appropriate when the magnitude (or relative importance) of variables is critical.\n",
        "\n",
        "#**Pearson Correlation:**\n",
        "**Advantage:**\n",
        " Pearson correlation measures linear relationships between variables and quantifies the strength and direction of that link. It is insensitive to linear transformations, making it appropriate for variables of varying scale.\n",
        "\n",
        "**Cons:**\n",
        "Because Pearson correlation presupposes linearity, it may fail to properly represent nonlinear relationships between variables. It may be susceptible to outliers, particularly with small sample sizes. It presupposes that variables follow a normal distribution; if this assumption is broken, the correlation may not adequately reflect the relationship."
      ],
      "metadata": {
        "id": "4b63huuE4oaw"
      }
    },
    {
      "cell_type": "markdown",
      "source": [
        "**7. For each of the species, find if there are outliers in the species. For this purpose compare the 4-dimensional vector of any particular object (row in the csv file) with the 4-dimensional mean vector of the species. Use Mahalanobis Distance as the proximity measure. You will need to choose appropriate thresholds for discerning whether a data point is anomalous or not. Explain how you did this.**"
      ],
      "metadata": {
        "id": "GgwYdPUDUVJ7"
      }
    },
    {
      "cell_type": "markdown",
      "source": [
        "This code segment is designed for outlier detection using Mahalanobis distance and the chi-square distribution. It calculates the critical chi-square value based on a given significance level and degrees of freedom. Then, for each species, it computes Mahalanobis distances for each data point relative to the species' mean vector, identifying outliers beyond the threshold. Finally, it prints out the detected outliers for each species, aiding in the identification of potentially anomalous observations within the dataset."
      ],
      "metadata": {
        "id": "LbnXrOdoAtiN"
      }
    },
    {
      "cell_type": "code",
      "source": [
        "from scipy.stats import chi2\n",
        "# Degrees of freedom (number of dimensions)\n",
        "degrees_of_freedom = 4\n",
        "# Significance level (1 - alpha) for outlier detection\n",
        "alpha = 0.45\n",
        "# Calculate the Chi-Square critical value for the given alpha and degrees of freedom\n",
        "chi2_critical_value = chi2.ppf(1 - alpha, degrees_of_freedom)\n",
        "# Dictionary to store outliers for each species\n",
        "outliers = {}\n",
        "# Detect outliers for each species using Mahalanobis distance\n",
        "for species, mean_vector in mean_vectors.items():\n",
        "    # Calculate the inverse of the covariance matrix for the current species\n",
        "    species_cov_matrix = iris_data[iris_data['label'] == species][['Sepal length', 'Sepal width', 'Petal length', 'Petal width']].cov()\n",
        "    inv_species_cov_matrix = inv(species_cov_matrix)\n",
        "    # Calculate Mahalanobis distance for each data point of the current species\n",
        "    distances = []\n",
        "    for _, row in iris_data[iris_data['label'] == species][['Sepal length', 'Sepal width', 'Petal length', 'Petal width']]\\\n",
        "    .iterrows():\n",
        "        data_point = row.values\n",
        "        mahalanobis_distance = mahalanobis(data_point, mean_vector, inv_species_cov_matrix)\n",
        "        distances.append(mahalanobis_distance)\n",
        "    # Determine outliers based on the threshold\n",
        "    outliers[species] = iris_data[iris_data['label'] == species][distances > chi2_critical_value]\n",
        "# Print outliers for each species\n",
        "for species, outlier_data in outliers.items():\n",
        "    print(f\"Outliers for {species}:\")\n",
        "    print(outlier_data)"
      ],
      "metadata": {
        "id": "wk795oFcUOXf"
      },
      "execution_count": null,
      "outputs": []
    },
    {
      "cell_type": "markdown",
      "source": [
        "**8. Same as 7 except use Euclidean distance as the proximity measure. Do not standardize the column vectors. You will need to choose appropriate thresholds for discerning whether a data point is anomalous or not. Explain how you did this.**"
      ],
      "metadata": {
        "id": "7dA80EqAUqcO"
      }
    },
    {
      "cell_type": "markdown",
      "source": [
        "This snippet implements outlier detection based on the Euclidean distance from the mean vector, utilizing quartiles and the interquartile range (IQR) to establish a threshold. It iterates over each species, calculates the distances for each data point, identifies outliers exceeding the threshold, and finally prints out the detected outliers for each species, aiding in the identification of potentially anomalous observations within the dataset."
      ],
      "metadata": {
        "id": "LX7sS1s1AxMg"
      }
    },
    {
      "cell_type": "code",
      "source": [
        "outliers = {}\n",
        "# Constant for determining the threshold (k times IQR)\n",
        "k = 1.5\n",
        "for species, mean_vector in mean_vectors.items():\n",
        "    # Calculate Euclidean distance for each data point of the current species\n",
        "    distances = []\n",
        "    for _, row in iris_data[iris_data['label'] == species][['Sepal length', 'Sepal width', 'Petal length', 'Petal width']]\\\n",
        "    .iterrows():\n",
        "        data_point = row.values\n",
        "        euclidean_distance = euclidean(data_point, mean_vector)\n",
        "        distances.append(euclidean_distance)\n",
        "    # Reset the index of the DataFrame for proper alignment\n",
        "    species_data = iris_data[iris_data['label'] == species].reset_index(drop=True)\n",
        "    # Calculate quartiles and IQR\n",
        "    q1 = pd.Series(distances).quantile(0.25)\n",
        "    q3 = pd.Series(distances).quantile(0.75)\n",
        "    iqr = q3 - q1\n",
        "    # Determine outliers based on the threshold (Q3 + k * IQR)\n",
        "    outliers[species] = species_data[pd.Series(distances) > (q3 + k * iqr)]\n",
        "# Print outliers for each species\n",
        "for species, outlier_data in outliers.items():\n",
        "    print(f\"Outliers for {species}:\")\n",
        "    print(outlier_data)"
      ],
      "metadata": {
        "id": "SkZhm0z2Us9e"
      },
      "execution_count": null,
      "outputs": []
    },
    {
      "cell_type": "markdown",
      "source": [
        "**9. Analyze your anomaly detection results. Does Mahalanobis distance work better than Euclidean distance? Or the other way around? Or the results are inconclusive?**"
      ],
      "metadata": {
        "id": "mLSW6-La46e8"
      }
    },
    {
      "cell_type": "markdown",
      "source": [
        "\n",
        "The Mahalanobis distance might excel in tasks such as clustering (e.g., utilizing k-means) or classification (e.g., employing k-nearest neighbors) within the Iris dataset, given its capability to consider both scale and correlation among features. Nevertheless, the Euclidean distance could suffice and offer simplicity, particularly if the dataset has been normalized or if differences in scale and correlation are minimal.\n",
        "\n",
        "In essence, empirical testing would be the most reliable approach to ascertain which distance measure performs better. This entails evaluating the performance of each distance measure in specific tasks like clustering or classification using the Iris dataset."
      ],
      "metadata": {
        "id": "9FwWkxoy4tNS"
      }
    },
    {
      "cell_type": "markdown",
      "source": [
        "**10. Evaluate the efficacy of the following (nearest-neighbors- like) classifier. First calculate the mean vector of each species as described at the beginning of this assignment. Next, for each point in the data set (i.e. row in the csv file restricted to the first 4 columns) predict the species of that point to be the species of the mean vector that is the closest to that point. Use Mahalanobis Distance as the proximity measure. Report your results as a 3-by-3 contingency table T, where T[i][j] is the number of instances in which the true species is i and the predicted species is j. Attach a brief interpretation of what this table reveals about how well your classifier has done. Note that we are well aware that this evaluation is being done on the training set; its not meant for drawing conclusions about predictive accuracy, rather only to get an exploratory sense for what the cont9ngency table reveals and what we can conclude from it.**"
      ],
      "metadata": {
        "id": "K5dCRE4pVTiN"
      }
    },
    {
      "cell_type": "markdown",
      "source": [
        "\n",
        "This code generates predictions for the species of each data point using Mahalanobis Distance. It iterates through the dataset, calculates Mahalanobis distances from each species' mean vector, and predicts the species based on the closest mean vector. Finally, it constructs a 3x3 contingency table to evaluate the classification performance, presenting the counts of correct and incorrect predictions for each species pair."
      ],
      "metadata": {
        "id": "NBqKbg4KKMgb"
      }
    },
    {
      "cell_type": "code",
      "source": [
        "predictions = {'Iris-setosa': [], 'Iris-versicolor': [], 'Iris-virginica': []}\n",
        "# Predict species for each data point using Mahalanobis Distance\n",
        "for _, row in iris_data[['Sepal length', 'Sepal width', 'Petal length', 'Petal width', 'label']].iterrows():\n",
        "    data_point = row[['Sepal length', 'Sepal width', 'Petal length', 'Petal width']].values\n",
        "    true_species = row['label']\n",
        "    # Calculate Mahalanobis distances from each species' mean vector\n",
        "    mahalanobis_distances = {}\n",
        "    for species, mean_vector in mean_vectors.items():\n",
        "        species_cov_matrix = iris_data[iris_data['label'] == species][['Sepal length', 'Sepal width', 'Petal length',\n",
        "                                                                       'Petal width']].cov()\n",
        "        inv_species_cov_matrix = inv(species_cov_matrix)\n",
        "        mahalanobis_distance = mahalanobis(data_point, mean_vector, inv_species_cov_matrix)\n",
        "        mahalanobis_distances[species] = mahalanobis_distance\n",
        "    # Predict the species based on the closest mean vector\n",
        "    predicted_species = min(mahalanobis_distances, key=mahalanobis_distances.get)\n",
        "    # Store the prediction\n",
        "    predictions[true_species].append(predicted_species)\n",
        "# Create the 3x3 contingency table\n",
        "contingency_table = [[0, 0, 0], [0, 0, 0], [0, 0, 0]]\n",
        "for i, true_species in enumerate(['Iris-setosa', 'Iris-versicolor', 'Iris-virginica']):\n",
        "    for j, predicted_species in enumerate(['Iris-setosa', 'Iris-versicolor', 'Iris-virginica']):\n",
        "        contingency_table[i][j] = predictions[true_species].count(predicted_species)\n",
        "# Print the contingency table\n",
        "print(\"Contingency Table:\")\n",
        "for row in contingency_table:\n",
        "    print(row)"
      ],
      "metadata": {
        "id": "l9ZI0gcbUxFU"
      },
      "execution_count": null,
      "outputs": []
    }
  ]
}